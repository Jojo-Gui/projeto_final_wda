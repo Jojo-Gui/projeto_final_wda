{
 "cells": [
  {
   "cell_type": "code",
   "execution_count": 4,
   "metadata": {},
   "outputs": [],
   "source": [
    "import pandas as pd\n",
    "import statistics as sta\n",
    "import numpy as np\n",
    "import csv"
   ]
  },
  {
   "cell_type": "code",
   "execution_count": 6,
   "metadata": {},
   "outputs": [],
   "source": [
    "dados = pd.read_csv(r'C:\\Users\\joaop\\Downloads\\Projeto_AP1\\Projeto_AP1\\Base_Tratada\\produtos_lolita_pimenta_tratados.csv', sep=';', encoding='utf-8')"
   ]
  },
  {
   "cell_type": "code",
   "execution_count": null,
   "metadata": {},
   "outputs": [
    {
     "name": "stdout",
     "output_type": "stream",
     "text": [
      "A média desconto é de R$292.47.\n",
      "A média preço é de R$203.86.\n",
      "A variância desconto é de 226.22.\n"
     ]
    },
    {
     "ename": "NameError",
     "evalue": "name 'variancia_preço' is not defined",
     "output_type": "error",
     "traceback": [
      "\u001b[31m---------------------------------------------------------------------------\u001b[39m",
      "\u001b[31mNameError\u001b[39m                                 Traceback (most recent call last)",
      "\u001b[36mCell\u001b[39m\u001b[36m \u001b[39m\u001b[32mIn[22]\u001b[39m\u001b[32m, line 9\u001b[39m\n\u001b[32m      7\u001b[39m variancia_preco = np.var(dados[\u001b[33m'\u001b[39m\u001b[33mdesconto\u001b[39m\u001b[33m'\u001b[39m])\n\u001b[32m      8\u001b[39m \u001b[38;5;28mprint\u001b[39m(\u001b[33mf\u001b[39m\u001b[33m'\u001b[39m\u001b[33mA variância desconto é de \u001b[39m\u001b[38;5;132;01m{\u001b[39;00mvariancia_desconto\u001b[38;5;132;01m:\u001b[39;00m\u001b[33m.2f\u001b[39m\u001b[38;5;132;01m}\u001b[39;00m\u001b[33m.\u001b[39m\u001b[33m'\u001b[39m)\n\u001b[32m----> \u001b[39m\u001b[32m9\u001b[39m \u001b[38;5;28mprint\u001b[39m(\u001b[33mf\u001b[39m\u001b[33m'\u001b[39m\u001b[33mA variância preço é de \u001b[39m\u001b[38;5;132;01m{\u001b[39;00m\u001b[43mvariancia_preço\u001b[49m\u001b[38;5;132;01m:\u001b[39;00m\u001b[33m.2f\u001b[39m\u001b[38;5;132;01m}\u001b[39;00m\u001b[33m.\u001b[39m\u001b[33m'\u001b[39m)\n\u001b[32m     12\u001b[39m dp_desconto = np.std(dados[\u001b[33m'\u001b[39m\u001b[33mdesconto\u001b[39m\u001b[33m'\u001b[39m])\n\u001b[32m     13\u001b[39m dp_preco = np.std(dados[\u001b[33m'\u001b[39m\u001b[33mpreco\u001b[39m\u001b[33m'\u001b[39m])\n",
      "\u001b[31mNameError\u001b[39m: name 'variancia_preço' is not defined"
     ]
    }
   ],
   "source": [
    "media_desconto = np.mean(dados['preco'])\n",
    "media_preco = np.mean(dados['desconto'])\n",
    "print(f'A média desconto é de R${media_desconto:.2f}.')\n",
    "print(f'A média preço é de R${media_preco:.2f}.')\n",
    "\n",
    "variancia_desconto = np.var(dados['preco'])\n",
    "variancia_precos = np.var(dados['desconto'])\n",
    "print(f'A variância desconto é de {variancia_desconto:.2f}.')\n",
    "print(f'A variância preço é de {variancia_precos:.2f}.')\n",
    "\n",
    "\n",
    "dp_desconto = np.std(dados['desconto'])\n",
    "dp_preco = np.std(dados['preco'])\n",
    "print(f'O desvio padrão é de R${dp_desconto:.2f}.')\n",
    "print(f'O desvio padrão é de R${dp_preco:.2f}.')"
   ]
  },
  {
   "cell_type": "code",
   "execution_count": 23,
   "metadata": {},
   "outputs": [],
   "source": [
    "# Criar DataFrames com os valores\n",
    "df_media = pd.DataFrame({'media_desconto': [media_desconto], 'media_preco': [media_preco]})\n",
    "df_var = pd.DataFrame({'variancia_desconto': [variancia_desconto], 'variancia_preco': [variancia_preco]})\n",
    "df_dp = pd.DataFrame({'dp_desconto': [dp_desconto], 'dp_preco': [dp_preco]})"
   ]
  },
  {
   "cell_type": "code",
   "execution_count": 24,
   "metadata": {},
   "outputs": [],
   "source": [
    "df_media.to_csv('insights_media.csv', sep=';', index=False, encoding='utf-8')\n",
    "df_var.to_csv('insights_variancia.csv', sep=';', index=False, encoding='utf-8')\n",
    "df_dp.to_csv('insights_desvio_padrao.csv', sep=';', index=False, encoding='utf-8')"
   ]
  }
 ],
 "metadata": {
  "kernelspec": {
   "display_name": "Python 3",
   "language": "python",
   "name": "python3"
  },
  "language_info": {
   "codemirror_mode": {
    "name": "ipython",
    "version": 3
   },
   "file_extension": ".py",
   "mimetype": "text/x-python",
   "name": "python",
   "nbconvert_exporter": "python",
   "pygments_lexer": "ipython3",
   "version": "3.13.0"
  }
 },
 "nbformat": 4,
 "nbformat_minor": 2
}
